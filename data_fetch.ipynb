{
 "cells": [
  {
   "cell_type": "code",
   "execution_count": 5,
   "metadata": {},
   "outputs": [],
   "source": [
    "import requests\n",
    "import pandas as pd\n",
    "from bs4 import BeautifulSoup\n",
    "\n",
    "def scrapeBillboard(year):\n",
    "    '''\n",
    "    Scrape the Billboard Hot 100 chart for a given year, handling merged cells.\n",
    "    \n",
    "    Parameters:\n",
    "        year (int): The year to scrape the chart for.\n",
    "        \n",
    "    Returns:\n",
    "        pd.DataFrame: A DataFrame containing rank, title, artist, and year.\n",
    "    '''\n",
    "    url = f\"https://en.wikipedia.org/wiki/Billboard_Year-End_Hot_100_singles_of_{year}\"\n",
    "    html = requests.get(url)\n",
    "    soup = BeautifulSoup(html.content, \"html.parser\")\n",
    "\n",
    "    table = soup.find(\"table\", class_=\"wikitable\")\n",
    "    tr = table.findAll(\"tr\")\n",
    "\n",
    "    data = []\n",
    "    last_artist = None  # Store last valid artist name\n",
    "\n",
    "    for row in tr[1:]:  # Skip header row\n",
    "        td = row.findAll(\"td\")\n",
    "\n",
    "        # if len(td) < 3:\n",
    "        #     continue  # Skip invalid rows\n",
    "        \n",
    "        rank = td[0].text.strip()  # Extract rank\n",
    "        \n",
    "        # Extract song title (handle <a> tag if present)\n",
    "        title_tag = td[1].find(\"a\")\n",
    "        title = title_tag.text.strip() if title_tag else td[1].text.strip()\n",
    "\n",
    "        # Check if artist cell exists or is merged\n",
    "        if len(td) == 3:\n",
    "            artist = td[2].text.strip()\n",
    "            last_artist = artist  # Store current artist if available\n",
    "        else:\n",
    "            artist = last_artist  # Use last stored artist for merged rows\n",
    "\n",
    "        data.append([year, rank, title, artist])  # Store data as a list\n",
    "\n",
    "    # Convert list to DataFrame\n",
    "    df = pd.DataFrame(data, columns=[\"year\", \"rank\", \"title\", \"artist\"])\n",
    "    \n",
    "    return df"
   ]
  },
  {
   "cell_type": "code",
   "execution_count": 11,
   "metadata": {},
   "outputs": [
    {
     "name": "stderr",
     "output_type": "stream",
     "text": [
      "/var/folders/xn/8zmgmsg57rz62g6lyqm77p440000gn/T/ipykernel_28278/1482359175.py:20: DeprecationWarning: Call to deprecated method findAll. (Replaced by find_all) -- Deprecated since version 4.0.0.\n",
      "  tr = table.findAll(\"tr\")\n",
      "/var/folders/xn/8zmgmsg57rz62g6lyqm77p440000gn/T/ipykernel_28278/1482359175.py:26: DeprecationWarning: Call to deprecated method findAll. (Replaced by find_all) -- Deprecated since version 4.0.0.\n",
      "  td = row.findAll(\"td\")\n"
     ]
    }
   ],
   "source": [
    "years = range(1959, 2025)  # Adjust years as needed\n",
    "all_data = pd.concat([scrapeBillboard(year) for year in years], ignore_index=True)"
   ]
  },
  {
   "cell_type": "code",
   "execution_count": 12,
   "metadata": {},
   "outputs": [
    {
     "data": {
      "text/html": [
       "<div>\n",
       "<style scoped>\n",
       "    .dataframe tbody tr th:only-of-type {\n",
       "        vertical-align: middle;\n",
       "    }\n",
       "\n",
       "    .dataframe tbody tr th {\n",
       "        vertical-align: top;\n",
       "    }\n",
       "\n",
       "    .dataframe thead th {\n",
       "        text-align: right;\n",
       "    }\n",
       "</style>\n",
       "<table border=\"1\" class=\"dataframe\">\n",
       "  <thead>\n",
       "    <tr style=\"text-align: right;\">\n",
       "      <th></th>\n",
       "      <th>year</th>\n",
       "      <th>rank</th>\n",
       "      <th>title</th>\n",
       "      <th>artist</th>\n",
       "    </tr>\n",
       "  </thead>\n",
       "  <tbody>\n",
       "    <tr>\n",
       "      <th>0</th>\n",
       "      <td>1959</td>\n",
       "      <td>1</td>\n",
       "      <td>The Battle of New Orleans</td>\n",
       "      <td>Johnny Horton</td>\n",
       "    </tr>\n",
       "    <tr>\n",
       "      <th>1</th>\n",
       "      <td>1959</td>\n",
       "      <td>2</td>\n",
       "      <td>Mack the Knife</td>\n",
       "      <td>Bobby Darin</td>\n",
       "    </tr>\n",
       "    <tr>\n",
       "      <th>2</th>\n",
       "      <td>1959</td>\n",
       "      <td>3</td>\n",
       "      <td>Personality</td>\n",
       "      <td>Lloyd Price</td>\n",
       "    </tr>\n",
       "    <tr>\n",
       "      <th>3</th>\n",
       "      <td>1959</td>\n",
       "      <td>4</td>\n",
       "      <td>Venus</td>\n",
       "      <td>Frankie Avalon</td>\n",
       "    </tr>\n",
       "    <tr>\n",
       "      <th>4</th>\n",
       "      <td>1959</td>\n",
       "      <td>5</td>\n",
       "      <td>Lonely Boy</td>\n",
       "      <td>Paul Anka</td>\n",
       "    </tr>\n",
       "  </tbody>\n",
       "</table>\n",
       "</div>"
      ],
      "text/plain": [
       "   year rank                      title          artist\n",
       "0  1959    1  The Battle of New Orleans   Johnny Horton\n",
       "1  1959    2             Mack the Knife     Bobby Darin\n",
       "2  1959    3                Personality     Lloyd Price\n",
       "3  1959    4                      Venus  Frankie Avalon\n",
       "4  1959    5                 Lonely Boy       Paul Anka"
      ]
     },
     "execution_count": 12,
     "metadata": {},
     "output_type": "execute_result"
    }
   ],
   "source": [
    "all_data.to_csv(\"billboard_hot100_1959-2024.csv\", index=False)\n",
    "all_data.head()"
   ]
  },
  {
   "cell_type": "code",
   "execution_count": 17,
   "metadata": {},
   "outputs": [
    {
     "data": {
      "text/plain": [
       "66"
      ]
     },
     "execution_count": 17,
     "metadata": {},
     "output_type": "execute_result"
    }
   ],
   "source": [
    "all_data['year'].nunique()  # Check number of unique years"
   ]
  },
  {
   "cell_type": "code",
   "execution_count": null,
   "metadata": {},
   "outputs": [],
   "source": [
    "# Genius API\n",
    "import os\n",
    "from dotenv import load_dotenv\n",
    "\n",
    "\n",
    "def init():\n",
    "    '''Initialize the environment.'''\n",
    "    load_dotenv()\n",
    "\n",
    "    global spotify_cid\n",
    "    global spotify_secret\n",
    "    global genius_token\n",
    "    global headers\n",
    "\n",
    "    spotify_cid = os.getenv(\"SPOTIFY_CID\")\n",
    "    spotify_secret = os.getenv(\"SPOTIFY_SECRET\")\n",
    "    genius_token = os.getenv(\"GENIUS_TOKEN\")\n",
    "    headers = {\"Authorization\": \"Bearer \" + genius_token}\n",
    "\n",
    "\n",
    "def getGeniusURL(title, artist):\n",
    "    '''Get the Genius URL of a song.'''\n",
    "    url = \"https://api.genius.com/search\"\n",
    "    params = {\"q\": f\"{title} {artist}\"}\n",
    "    response = requests.get(url, params=params, headers=headers).json()\n",
    "    return response[\"response\"][\"hits\"][0][\"result\"][\"url\"]\n",
    "\n",
    "def getLyrics(url):\n",
    "    '''Get the lyrics of a song from its Genius URL.'''\n",
    "    html = requests.get(url)\n",
    "    soup = BeautifulSoup(html.content, \"html.parser\")\n",
    "    lyrics = soup.find(\"div\", {\"data-lyrics-container\": \"true\"}).get_text(separator=\"\\n\") \n",
    "    return lyrics"
   ]
  }
 ],
 "metadata": {
  "kernelspec": {
   "display_name": "si699_venv",
   "language": "python",
   "name": "python3"
  },
  "language_info": {
   "codemirror_mode": {
    "name": "ipython",
    "version": 3
   },
   "file_extension": ".py",
   "mimetype": "text/x-python",
   "name": "python",
   "nbconvert_exporter": "python",
   "pygments_lexer": "ipython3",
   "version": "3.11.5"
  }
 },
 "nbformat": 4,
 "nbformat_minor": 2
}
